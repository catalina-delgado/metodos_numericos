{
 "cells": [
  {
   "attachments": {},
   "cell_type": "markdown",
   "metadata": {},
   "source": [
    "Serie de Fourier para ondas cuadradas"
   ]
  },
  {
   "cell_type": "code",
   "execution_count": 1,
   "metadata": {},
   "outputs": [],
   "source": [
    "#_________________________________________Librerías\n",
    "import numpy as np\n",
    "import matplotlib.pylab as plt\n",
    "from scipy import signal as sp\n",
    "# Importamos todo el modulo sympy\n",
    "from sympy import *\n",
    "# Importamos las variables simbolicas 'n' y 't'\\n\",\n",
    "from sympy.abc import n, t"
   ]
  },
  {
   "cell_type": "code",
   "execution_count": 9,
   "metadata": {},
   "outputs": [
    {
     "data": {
      "text/plain": [
       "Text(0.5, 0, 'tiempo(t)')"
      ]
     },
     "execution_count": 9,
     "metadata": {},
     "output_type": "execute_result"
    },
    {
     "data": {
      "image/png": "[encoded data removed]",
      "text/plain": [
       "<Figure size 432x288 with 1 Axes>"
      ]
     },
     "metadata": {
      "needs_background": "light"
     },
     "output_type": "display_data"
    }
   ],
   "source": [
    "# Periodo\n",
    "T = pi\n",
    "# Frecuencia angular\n",
    "w = (2*pi)/T\n",
    "\n",
    "amplitud = 1\n",
    "tiempo = np.arange(-3, 3, 0.001)\n",
    "FuncionTramos = (sp.square(tiempo/2) * amplitud) + amplitud\n",
    "\n",
    "# Graficamos la onda cuadrada\n",
    "plt.plot(tiempo, FuncionTramos, lw=2)\n",
    "plt.grid()\n",
    "plt.annotate('T/2', xy = (np.pi, 0), xytext = (np.pi, -0.01))\n",
    "plt.annotate('T/4', xy = (np.pi /4, 0), xytext = (np.pi /4, 1.01))\n",
    "plt.ylabel('Amplitud')\n",
    "plt.xlabel('tiempo(t)')"
   ]
  }
 ],
 "metadata": {
  "kernelspec": {
   "display_name": "base",
   "language": "python",
   "name": "python3"
  },
  "language_info": {
   "codemirror_mode": {
    "name": "ipython",
    "version": 3
   },
   "file_extension": ".py",
   "mimetype": "text/x-python",
   "name": "python",
   "nbconvert_exporter": "python",
   "pygments_lexer": "ipython3",
   "version": "3.9.12"
  },
  "orig_nbformat": 4,
  "vscode": {
   "interpreter": {
    "hash": "ad2bdc8ecc057115af97d19610ffacc2b4e99fae6737bb82f5d7fb13d2f2c186"
   }
  }
 },
 "nbformat": 4,
 "nbformat_minor": 2
}
