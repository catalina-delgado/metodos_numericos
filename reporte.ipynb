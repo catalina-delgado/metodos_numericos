{
 "cells": [
  {
   "attachments": {},
   "cell_type": "markdown",
   "metadata": {},
   "source": [
    "# Ensayo de Tensión\n",
    "Curvas de Esfuerzo Vs Deformación"
   ]
  },
  {
   "cell_type": "code",
   "execution_count": 149,
   "metadata": {},
   "outputs": [],
   "source": [
    "# LIBRERÍAS\n",
    "import pandas as pd\n",
    "from matplotlib import pyplot as plt\n",
    "from sklearn.linear_model import LinearRegression \n",
    "import numpy as np\n",
    "from scipy import signal as sp\n",
    "import sympy as sym\n",
    "# variables simbolicas e: deformacion y s: esfuerzo,\n",
    "from sympy.abc import e, s"
   ]
  },
  {
   "attachments": {},
   "cell_type": "markdown",
   "metadata": {},
   "source": [
    "Se importan datos tomados de la máquina Universal de Ensayos para una prueba de tensión en una probeta de acero"
   ]
  },
  {
   "cell_type": "code",
   "execution_count": 156,
   "metadata": {},
   "outputs": [
    {
     "name": "stderr",
     "output_type": "stream",
     "text": [
      "c:\\ProgramData\\Anaconda3\\lib\\site-packages\\openpyxl\\worksheet\\header_footer.py:48: UserWarning: Cannot parse header or footer so it will be ignored\n",
      "  warn(\"\"\"Cannot parse header or footer so it will be ignored\"\"\")\n"
     ]
    }
   ],
   "source": [
    "# RECOPILACIÓN DE DATOS\n",
    "tabla1 = pd.read_excel('1NA.xlsx')\n",
    "\n",
    "# GEOMETRÍA DE LA PROBETA\n",
    "longitud_inicial = 25; #Longitud inicial del especímen mm\n",
    "area = 6.48*6.03 #área de la sección transversal en mm\n",
    "\n",
    "# DATOS\n",
    "Carga = tabla1.FORCE #Fuerza aplicada en N\n",
    "Alargamiento = tabla1.POSIT #alargamiento del especímen\n",
    "Deformacion = Alargamiento/longitud_inicial"
   ]
  },
  {
   "attachments": {},
   "cell_type": "markdown",
   "metadata": {},
   "source": [
    "CARACTERÍSTICAS DEL MATERIAL"
   ]
  },
  {
   "cell_type": "code",
   "execution_count": 162,
   "metadata": {},
   "outputs": [],
   "source": [
    "Esfuerzo = Carga/area\n",
    "max_esf = np.amax(Esfuerzo) # Esfuerzo último\n",
    "S_f = Esfuerzo[len(Esfuerzo)-1] # Esfuerzo a la fractura\n",
    "F_f = S_f*area # Fuerza de fractura\n",
    "e_f = Alargamiento[len(Alargamiento)-1] # Alargamiento a la fractura"
   ]
  },
  {
   "cell_type": "code",
   "execution_count": 163,
   "metadata": {},
   "outputs": [],
   "source": [
    "# DELIMITACIÓN DE LA ZONA ELÁSTICA\n",
    "#\n",
    "LE = Esfuerzo/Deformacion \n",
    "for i in Esfuerzo:\n",
    "  pos = np.where(Esfuerzo == i)[0][0] #i es el valor del esfuerzo\n",
    "  if pos < len(Esfuerzo)-1:\n",
    "    index = pos \n",
    "    #si la sensibilidad del módulo de young es cercana al 5%\n",
    "   # print(LE[index+1]/LE[index])\n",
    "    if LE[index+1]/LE[index]<1 and LE[index+1]/LE[index]>0.999:\n",
    "       limit = np.where(Esfuerzo==i)[0][0]\n",
    "          \n",
    "sigma = [] #asignación de los datos de esfuerzo a un array\n",
    "for i in Esfuerzo:\n",
    "  if np.where(Esfuerzo == i)[0][0] < limit:\n",
    "    sigma.append(i)"
   ]
  },
  {
   "cell_type": "code",
   "execution_count": 164,
   "metadata": {},
   "outputs": [],
   "source": [
    "#ESFUERZO DE FLUENCIA\n",
    "Sy_Sigma = np.amax(sigma)\n",
    "sd_e = Deformacion[np.where(Esfuerzo==Sy_Sigma)[0][0]]"
   ]
  },
  {
   "cell_type": "code",
   "execution_count": 165,
   "metadata": {},
   "outputs": [
    {
     "name": "stdout",
     "output_type": "stream",
     "text": [
      "[[1. 1.]\n",
      " [1. 1.]]\n"
     ]
    }
   ],
   "source": [
    "# MÓDULO DE YOUNG / LÍMITE ELÁSTICO\n",
    "Sigma = []\n",
    "Epsilon = []\n",
    "delta_l = []\n",
    "for i in Esfuerzo:\n",
    "  if np.where(Esfuerzo == i)[0][0] < np.where(Esfuerzo == Sy_Sigma)[0][0]:\n",
    "    if i > 200 and i < 300:\n",
    "      index = np.where(Esfuerzo==i)[0][0]\n",
    "      Sigma.append(i)\n",
    "      epsilon = Deformacion[index]\n",
    "      Epsilon.append(epsilon)\n",
    "      delta_l.append(epsilon*longitud_inicial)\n",
    "      \n",
    "regresion_lineal = LinearRegression() # instancia de LinearRegression\n",
    "regresion_lineal.fit(np.reshape(Epsilon,(-1,1)), Sigma)\n",
    "E = regresion_lineal.coef_/1000\n",
    "\n",
    "estimado_sigma = regresion_lineal.predict(np.reshape(Epsilon,(-1,1)))\n",
    "estimado_carga = estimado_sigma*area\n",
    "rho = np.corrcoef(Epsilon, estimado_sigma)\n",
    "\n",
    "print(rho)"
   ]
  },
  {
   "cell_type": "code",
   "execution_count": 166,
   "metadata": {},
   "outputs": [],
   "source": [
    "# ELONGACIÓN\n",
    "epsilon_e = (e_f/longitud_inicial-(S_f/(E*1000)))*100\n",
    "e = epsilon*longitud_inicial"
   ]
  },
  {
   "cell_type": "code",
   "execution_count": 167,
   "metadata": {},
   "outputs": [],
   "source": [
    "# Modulo Tenacidad \n",
    "\n",
    "LE = Esfuerzo/Deformacion \n",
    "for i in Esfuerzo:\n",
    "  pos = np.where(Esfuerzo == i)[0][0] #i es el valor del esfuerzo\n",
    "  if pos < len(Esfuerzo)-1:\n",
    "    index = pos \n",
    "    #si la sensibilidad del módulo de young es cercana al 5%\n",
    "    if Deformacion[index+1]<0.14:\n",
    "       limit = np.where(Esfuerzo==i)[0][0]\n",
    "          \n",
    "sigma1 = [] #asignación de los datos de esfuerzo a un array1 en el tramo de la deformacion menor a 0.14\n",
    "def1 = []\n",
    "sigma2 = [] #asignación de los datos de esfuerzo a un array 2 para el siguiente tramo\n",
    "def2 = []\n",
    "for i in Esfuerzo:\n",
    "  if np.where(Esfuerzo == i)[0][0] <= limit:\n",
    "    sigma1.append(i)\n",
    "    def1.append(Deformacion[np.where(Esfuerzo == i)[0][0]])\n",
    "  if np.where(Esfuerzo == i)[0][0] > limit:\n",
    "    sigma2.append(i)\n",
    "    def2.append(Deformacion[np.where(Esfuerzo == i)[0][0]])\n"
   ]
  },
  {
   "cell_type": "code",
   "execution_count": 183,
   "metadata": {},
   "outputs": [
    {
     "name": "stdout",
     "output_type": "stream",
     "text": [
      "1000276.60003851*x*(x - 0.128016004562378)*(x - 0.10873740196228) - 3791330.47327396*x*(x - 0.128016004562378)*(x - 0.0840231990814209) + 2839749.79062229*x*(x - 0.10873740196228)*(x - 0.0840231990814209) - 29.0333795499749*(x - 0.128016004562378)*(x - 0.10873740196228)*(x - 0.0840231990814209) + 2\n"
     ]
    }
   ],
   "source": [
    "n = len(def1) #Conocer cuantos elementos tiene los datos en x\n",
    "x = sym.Symbol('x') #Asignamos un caracter X\n",
    "polinomio1 = 2 # Punto inicial del polinomio\n",
    "for i in range(0,n,50):\n",
    "    # Para calcular el primer termino de la Langrage, es necesario calcular un numerador que se obtiene por multiplicaciones\n",
    "    numerador = 1\n",
    "    denominador = 1\n",
    "    # El numerador debe recorrer todos los puntos del vector x\n",
    "    for j in range(0,n,50):\n",
    "        if (i != j):\n",
    "            numerador = numerador*(x-def1[j])\n",
    "            denominador = denominador*(def1[i]-def1[j])\n",
    "        # Calculamos los terminos de lagrange\n",
    "        termino = (numerador/denominador)*sigma1[i]\n",
    "    # Acumulamos los terminos\n",
    "    polinomio1 += termino\n",
    "\n",
    "# Forma lamda del polinomio px, referencia x y el polinomio que se desea convertir\n",
    "px1 = sym.lambdify(x, polinomio1)\n",
    "print(polinomio1)"
   ]
  },
  {
   "cell_type": "code",
   "execution_count": 193,
   "metadata": {},
   "outputs": [
    {
     "name": "stdout",
     "output_type": "stream",
     "text": [
      "343025.426680836*(y - 0.193675003051758)*(y - 0.158800792694092) - 561996.466100193*(y - 0.193675003051758)*(y - 0.139395198822021) + 210392.126713533*(y - 0.158800792694092)*(y - 0.139395198822021)\n"
     ]
    }
   ],
   "source": [
    "n = len(def2) #Conocer cuantos elementos tiene los datos en x\n",
    "y = sym.Symbol('y') #Asignamos un caracter X\n",
    "polinomio2 = 0 # Punto inicial del polinomio\n",
    "for i in range(0,n,10):\n",
    "    # Para calcular el primer termino de la Langrage, es necesario calcular un numerador que se obtiene por multiplicaciones\n",
    "    numerador = 1\n",
    "    denominador = 1\n",
    "    # El numerador debe recorrer todos los puntos del vector x\n",
    "    for j in range(0,n,10):\n",
    "        if (i != j):\n",
    "            numerador = numerador*(y-def2[j])\n",
    "            denominador = denominador*(def2[i]-def2[j])\n",
    "        # Calculamos los terminos de lagrange\n",
    "        termino = (numerador/denominador)*sigma2[i]\n",
    "    # Acumulamos los terminos\n",
    "    polinomio2 += termino\n",
    "\n",
    "# Forma lamda del polinomio px, referencia x y el polinomio que se desea convertir\n",
    "px2 = sym.lambdify(y, polinomio2)\n",
    "print(polinomio2)"
   ]
  },
  {
   "cell_type": "code",
   "execution_count": 207,
   "metadata": {},
   "outputs": [
    {
     "data": {
      "image/png": "[encoded data removed]",
      "text/plain": [
       "<Figure size 432x288 with 1 Axes>"
      ]
     },
     "metadata": {
      "needs_background": "light"
     },
     "output_type": "display_data"
    }
   ],
   "source": [
    "# Vectores para graficas\n",
    "muestras = 100 # Numero cualquiera\n",
    "a = np.min(def1)\n",
    "b = np.max(def1)\n",
    "p_xi1 = np.linspace(a,b,muestras)\n",
    "pfi1 = px1(p_xi1)\n",
    "area1 = sym.integrate(polinomio1, (x, a, b))\n",
    "\n",
    "c = np.min(def2)\n",
    "d = np.max(def2)\n",
    "p_xi2 = np.linspace(c,d,muestras)\n",
    "pfi2 = px2(p_xi2)\n",
    "area2 = sym.integrate(polinomio2, (y, c, d))\n",
    "\n",
    "area = area1 + area2\n",
    "\n",
    "# Grafica\n",
    "plt.fill_between(def1,sigma1)\n",
    "plt.fill_between(def2,sigma2)\n",
    "plt.plot(p_xi1,pfi1, '--', label='Tramo1')\n",
    "plt.plot(p_xi2,pfi2, '--', label='Tramo2')\n",
    "plt.title('área bajo la curva = '+str(round(area,2)))\n",
    "plt.legend()\n",
    "plt.show()"
   ]
  },
  {
   "cell_type": "code",
   "execution_count": null,
   "metadata": {},
   "outputs": [
    {
     "data": {
      "image/png": "[encoded data removed]",
      "text/plain": [
       "<Figure size 432x288 with 2 Axes>"
      ]
     },
     "metadata": {
      "needs_background": "light"
     },
     "output_type": "display_data"
    }
   ],
   "source": [
    "#VISUALIZACIÓN DE DATOS\n",
    "\n",
    "plt.figure(layout=\"constrained\")\n",
    "plt.subplot(131)\n",
    "plt.plot(Deformacion, Esfuerzo, color=\"blue\", linewidth=\".7\")\n",
    "plt.plot(Epsilon, estimado_sigma, color=\"red\", linewidth=\".7\")\n",
    "plt.plot(sd_e, Sy_Sigma, color=\"white\", marker='o', markerfacecolor='black', markersize=3)\n",
    "plt.xlabel('Deformación (mm/mm)')\n",
    "plt.ylabel('Esfuerzo (MPa)')\n",
    "plt.legend(['',\n",
    "            'E = '+str(E)+' GPa',\n",
    "            'Sy = '+str(round(Sy_Sigma, 2))+' MPa \\n'\n",
    "            'Smax = '+str(round(max_esf,2))+' MPa \\n'\n",
    "            'Sf = '+str(round(S_f,2))+' MPa']);\n",
    "\n",
    "plt.subplot(122)\n",
    "plt.plot(Alargamiento,Carga, color=\"blue\", linewidth=\".7\")\n",
    "plt.plot(delta_l, estimado_carga, color=\"red\", linewidth=\".7\")\n",
    "plt.plot([e,e_f], [0,F_f], linestyle=\"--\", color=\"red\", linewidth=\".5\")\n",
    "plt.xlabel('Alargamiento (mm)')\n",
    "plt.ylabel('Carga (N)')\n",
    "plt.legend(['Fy = '+str(round(Sy_Sigma*area, 2))+' N \\n'\n",
    "            'Fmax = '+str(round(max_esf*area,2))+' N \\n'\n",
    "            'Ff = '+str(round(F_f,2))+' N \\n'\n",
    "            'e = '+str(epsilon_e)+' %']);"
   ]
  }
 ],
 "metadata": {
  "kernelspec": {
   "display_name": "Python 3",
   "language": "python",
   "name": "python3"
  },
  "language_info": {
   "codemirror_mode": {
    "name": "ipython",
    "version": 3
   },
   "file_extension": ".py",
   "mimetype": "text/x-python",
   "name": "python",
   "nbconvert_exporter": "python",
   "pygments_lexer": "ipython3",
   "version": "3.9.12"
  },
  "orig_nbformat": 4
 },
 "nbformat": 4,
 "nbformat_minor": 2
}
